{
 "cells": [
  {
   "cell_type": "code",
   "execution_count": 22,
   "metadata": {},
   "outputs": [],
   "source": [
    "\n",
    "import requests \n",
    "import bs4\n",
    "import pandas as pd\n",
    "\n",
    "# 把 到 ptt 八卦版 網址存到URL 變數中\n",
    "URL = \"https://www.ptt.cc/bbs/HatePolitics/index.html\"\n",
    "# 設定Header與Cookie\n",
    "my_headers = {'cookie': 'over18=1;'}\n",
    "# 發送get 請求 到 ptt 八卦版\n",
    "response = requests.get(URL, headers = my_headers)\n",
    "# 印出回傳網頁程式碼\n",
    "\n",
    "# 2-1 把網頁程式碼(HTML) 丟入 bs4模組分析\n",
    "soup = bs4.BeautifulSoup(response.text,\"html.parser\")\n",
    "\n",
    "# 2-2 查找所有html 元素 過濾出 標籤名稱為 'div' 同時class為 title \n",
    "#titles = soup.find_all('div','title')\n",
    "\n"
   ]
  },
  {
   "cell_type": "code",
   "execution_count": 21,
   "metadata": {},
   "outputs": [
    {
     "name": "stdout",
     "output_type": "stream",
     "text": [
      "Collecting pandas\n",
      "  Downloading pandas-1.5.0-cp310-cp310-macosx_11_0_arm64.whl (10.8 MB)\n",
      "\u001b[2K     \u001b[90m━━━━━━━━━━━━━━━━━━━━━━━━━━━━━━━━━━━━━━━\u001b[0m \u001b[32m10.8/10.8 MB\u001b[0m \u001b[31m452.6 kB/s\u001b[0m eta \u001b[36m0:00:00\u001b[0m00:01\u001b[0m00:01\u001b[0m\n",
      "\u001b[?25hCollecting pytz>=2020.1\n",
      "  Downloading pytz-2022.4-py2.py3-none-any.whl (500 kB)\n",
      "\u001b[2K     \u001b[90m━━━━━━━━━━━━━━━━━━━━━━━━━━━━━━━━━━━━━\u001b[0m \u001b[32m500.8/500.8 KB\u001b[0m \u001b[31m765.6 kB/s\u001b[0m eta \u001b[36m0:00:00\u001b[0m00:01\u001b[0m00:01\u001b[0m\n",
      "\u001b[?25hRequirement already satisfied: python-dateutil>=2.8.1 in /Library/Frameworks/Python.framework/Versions/3.10/lib/python3.10/site-packages (from pandas) (2.8.2)\n",
      "Requirement already satisfied: numpy>=1.21.0 in /Library/Frameworks/Python.framework/Versions/3.10/lib/python3.10/site-packages (from pandas) (1.22.3)\n",
      "Requirement already satisfied: six>=1.5 in /Library/Frameworks/Python.framework/Versions/3.10/lib/python3.10/site-packages (from python-dateutil>=2.8.1->pandas) (1.16.0)\n",
      "Installing collected packages: pytz, pandas\n",
      "Successfully installed pandas-1.5.0 pytz-2022.4\n",
      "\u001b[33mWARNING: You are using pip version 22.0.4; however, version 22.2.2 is available.\n",
      "You should consider upgrading via the '/usr/local/bin/python3.10 -m pip install --upgrade pip' command.\u001b[0m\u001b[33m\n",
      "\u001b[0mNote: you may need to restart the kernel to use updated packages.\n"
     ]
    }
   ],
   "source": [
    "pip install pandas"
   ]
  },
  {
   "cell_type": "code",
   "execution_count": 24,
   "metadata": {},
   "outputs": [
    {
     "name": "stdout",
     "output_type": "stream",
     "text": [
      "[{'title': '\\nRe: [新聞] 東京迪士尼樂園提供打疫苗的人8折優惠\\n', 'url': 'https://www.ptt.cc/bbs/HatePolitics/M.1665576721.A.9E4.html'}, {'title': '\\nRe: [新聞] [新聞] 陳揮文請求新竹鄉親「不要被高虹\\n', 'url': 'https://www.ptt.cc/bbs/HatePolitics/M.1665576740.A.42C.html'}, {'title': '\\nRe: [討論] 柯糞的盲點 - 年輕人多支持柯黨\\n', 'url': 'https://www.ptt.cc/bbs/HatePolitics/M.1665576808.A.052.html'}, {'title': '\\nRe: [新聞] [新聞] 陳揮文請求新竹鄉親「不要被高虹\\n', 'url': 'https://www.ptt.cc/bbs/HatePolitics/M.1665576910.A.C43.html'}, {'title': '\\n[黑特] 台大聲望一落千丈，誰要負責？\\n', 'url': 'https://www.ptt.cc/bbs/HatePolitics/M.1665576916.A.346.html'}, {'title': '\\n[討論] 網軍月薪6萬我想應徵\\n', 'url': 'https://www.ptt.cc/bbs/HatePolitics/M.1665577035.A.D97.html'}, {'title': '\\n[黑特] 2024誰敢喊直接解密的我一定投爆\\n', 'url': 'https://www.ptt.cc/bbs/HatePolitics/M.1665577261.A.DB7.html'}, {'title': '\\n[公告] 私信版主檢舉一律不受理\\n', 'url': 'https://www.ptt.cc/bbs/HatePolitics/M.1657342803.A.296.html'}, {'title': '\\n[公告] 政治黑特板板規__20220803\\n', 'url': 'https://www.ptt.cc/bbs/HatePolitics/M.1659503906.A.5DF.html'}, {'title': '\\n[公告] HatePolitic 發文門檻變更\\n', 'url': 'https://www.ptt.cc/bbs/HatePolitics/M.1662308094.A.3E0.html'}, {'title': '\\n[公告] 政黑台北市長選舉民調開票\\n', 'url': 'https://www.ptt.cc/bbs/HatePolitics/M.1663742612.A.CA2.html'}, {'title': '\\n[公告] 政黑新竹市長看好度出爐\\n', 'url': 'https://www.ptt.cc/bbs/HatePolitics/M.1664771374.A.603.html'}]\n",
      "                                title  \\\n",
      "0     \\nRe: [新聞] 東京迪士尼樂園提供打疫苗的人8折優惠\\n   \n",
      "1   \\nRe: [新聞] [新聞] 陳揮文請求新竹鄉親「不要被高虹\\n   \n",
      "2       \\nRe: [討論] 柯糞的盲點 - 年輕人多支持柯黨\\n   \n",
      "3   \\nRe: [新聞] [新聞] 陳揮文請求新竹鄉親「不要被高虹\\n   \n",
      "4             \\n[黑特] 台大聲望一落千丈，誰要負責？\\n   \n",
      "5                 \\n[討論] 網軍月薪6萬我想應徵\\n   \n",
      "6          \\n[黑特] 2024誰敢喊直接解密的我一定投爆\\n   \n",
      "7                \\n[公告] 私信版主檢舉一律不受理\\n   \n",
      "8          \\n[公告] 政治黑特板板規__20220803\\n   \n",
      "9         \\n[公告] HatePolitic 發文門檻變更\\n   \n",
      "10              \\n[公告] 政黑台北市長選舉民調開票\\n   \n",
      "11               \\n[公告] 政黑新竹市長看好度出爐\\n   \n",
      "\n",
      "                                                  url  \n",
      "0   https://www.ptt.cc/bbs/HatePolitics/M.16655767...  \n",
      "1   https://www.ptt.cc/bbs/HatePolitics/M.16655767...  \n",
      "2   https://www.ptt.cc/bbs/HatePolitics/M.16655768...  \n",
      "3   https://www.ptt.cc/bbs/HatePolitics/M.16655769...  \n",
      "4   https://www.ptt.cc/bbs/HatePolitics/M.16655769...  \n",
      "5   https://www.ptt.cc/bbs/HatePolitics/M.16655770...  \n",
      "6   https://www.ptt.cc/bbs/HatePolitics/M.16655772...  \n",
      "7   https://www.ptt.cc/bbs/HatePolitics/M.16573428...  \n",
      "8   https://www.ptt.cc/bbs/HatePolitics/M.16595039...  \n",
      "9   https://www.ptt.cc/bbs/HatePolitics/M.16623080...  \n",
      "10  https://www.ptt.cc/bbs/HatePolitics/M.16637426...  \n",
      "11  https://www.ptt.cc/bbs/HatePolitics/M.16647713...  \n"
     ]
    }
   ],
   "source": [
    "list_results=[]\n",
    "for t in soup.find_all('div','title'):\n",
    "    find_a=t.find('a')\n",
    "    find_href=\"https://www.ptt.cc\"+find_a.get(\"href\")\n",
    "    title=t.text\n",
    "    results={\n",
    "        \"title\":title,\n",
    "        \"url\":find_href\n",
    "    }\n",
    "    list_results.append(results)\n",
    "print(list_results)\n",
    "#list_results = list_results[0:10] #抽十筆\n",
    "my_df=pd.DataFrame(list_results)\n",
    "print(my_df)    \n",
    "\n",
    "https://www.ptt.cc/bbs/HatePolitics/M.1665576721.A.9E4.html\n"
   ]
  },
  {
   "cell_type": "code",
   "execution_count": 8,
   "metadata": {},
   "outputs": [
    {
     "name": "stdout",
     "output_type": "stream",
     "text": [
      "\n",
      "[討論] 支持草包中剩老人跟黑道吧\n",
      "\n",
      "None\n",
      "\n",
      "[討論] 雖不少人嘴小英~但我相信以後會還她公道~\n",
      "\n",
      "None\n",
      "\n",
      "[新聞] 張善政批沒替地方做事 鄭寶清轟離譜失職\n",
      "\n",
      "None\n",
      "\n",
      "Re: [轉錄] 王浩宇FB-綠營鳳山吸票機\n",
      "\n",
      "None\n",
      "\n",
      "[討論] 萬一綠營只差2萬票呢?新北/台中?\n",
      "\n",
      "None\n",
      "\n",
      "[討論] 部分疫苗採購資訊保密真是30年？\n",
      "\n",
      "None\n",
      "\n",
      "[新聞] 悲哀 護國神山變末日方舟\n",
      "\n",
      "None\n",
      "\n",
      "[討論] 綠共是不是已經輸光歹完郎的退休金了?\n",
      "\n",
      "None\n",
      "\n",
      "[討論] 今天是阿扁生日\n",
      "\n",
      "None\n",
      "\n",
      "[討論] 選情預測\n",
      "\n",
      "None\n",
      "\n",
      "Re: [討論] 柯糞的盲點 - 年輕人多支持柯黨\n",
      "\n",
      "None\n",
      "\n",
      "[討論] 柯文哲下臺前 有機會洗掉龜樣嗎？\n",
      "\n",
      "None\n",
      "\n",
      "[公告] 私信版主檢舉一律不受理\n",
      "\n",
      "None\n",
      "\n",
      "[公告] 政治黑特板板規__20220803\n",
      "\n",
      "None\n",
      "\n",
      "[公告] HatePolitic 發文門檻變更\n",
      "\n",
      "None\n",
      "\n",
      "[公告] 政黑台北市長選舉民調開票\n",
      "\n",
      "None\n",
      "\n",
      "[公告] 政黑新竹市長看好度出爐\n",
      "\n",
      "None\n"
     ]
    }
   ],
   "source": [
    "\n",
    "\n",
    "# 2-3 萃取文字出來。\n",
    "# 因為我們有多個Tags存放在 List titles中。\n",
    "# 所以需要使用for 迴圈將逐筆將List \n",
    "for t in titles:\n",
    "    print(t.text)"
   ]
  }
 ],
 "metadata": {
  "interpreter": {
   "hash": "7e1998ff7f8aa20ada591c520b972326324e5ea05489af9e422744c7c09f6dad"
  },
  "kernelspec": {
   "display_name": "Python 3.10.4 64-bit",
   "language": "python",
   "name": "python3"
  },
  "language_info": {
   "codemirror_mode": {
    "name": "ipython",
    "version": 3
   },
   "file_extension": ".py",
   "mimetype": "text/x-python",
   "name": "python",
   "nbconvert_exporter": "python",
   "pygments_lexer": "ipython3",
   "version": "3.10.4"
  },
  "orig_nbformat": 4
 },
 "nbformat": 4,
 "nbformat_minor": 2
}
